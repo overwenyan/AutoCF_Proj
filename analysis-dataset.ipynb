{
 "cells": [
  {
   "cell_type": "markdown",
   "metadata": {},
   "source": [
    "# 下面是`dataset.py`的分析\n",
    "## 以`ml-100k`为例"
   ]
  },
  {
   "cell_type": "code",
   "execution_count": 1,
   "metadata": {},
   "outputs": [],
   "source": [
    "import argparse\n",
    "from audioop import rms\n",
    "import logging\n",
    "import os\n",
    "import sys\n",
    "from itertools import product\n",
    "from time import localtime, sleep, strftime, time\n",
    "# import time\n",
    "\n",
    "import numpy as np\n",
    "import setproctitle # to set the name of process\n",
    "import torch\n",
    "import torch.utils\n",
    "from tensorboardX import SummaryWriter\n",
    "from torch import multiprocessing as mp # 多线程工作\n",
    "\n",
    "from dataset import get_data_queue_cf, get_data_queue_cf_nonsparse, get_data_queue_efficiently, get_data_queue_negsampling_efficiently\n",
    "from models import (CML, DELF, DMF, FISM, GMF, MLP, SVD, JNCF_Cat, JNCF_Dot, SVD_plus_plus, SPACE, BaseModel, Virtue_CF)\n",
    "from controller import sample_arch_cf, sample_arch_cf_signal, sample_arch_cf_test\n",
    "from train_eval import (evaluate_cf, evaluate_cf_efficiently, evaluate_cf_efficiently_implicit, get_arch_performance_cf_signal_param_device, get_arch_performance_single_device, train_single_cf, train_single_cf_efficiently,get_arch_performance_implicit_single_device)\n",
    "from sklearn.utils import shuffle\n",
    "\n",
    "import GPUtil\n",
    "import socket\n",
    "import math\n",
    "import scipy.sparse as sp\n",
    "\n",
    "\n",
    "%load_ext autoreload\n",
    "%autoreload 2"
   ]
  },
  {
   "cell_type": "code",
   "execution_count": 92,
   "metadata": {},
   "outputs": [],
   "source": [
    "parser = argparse.ArgumentParser(description=\"Run.\")\n",
    "parser.add_argument('--lr', type=float, default=0.05, help='init learning rate')\n",
    "parser.add_argument('--arch_lr', type=float, default=0.05, help='learning rate for arch encoding')\n",
    "parser.add_argument('--controller_lr', type=float, default=1e-1, help='learning rate for controller')\n",
    "parser.add_argument('--weight_decay', type=float, default=1e-5, help='weight decay')\n",
    "parser.add_argument('--update_freq', type=int, default=1, help='frequency of updating architeture')\n",
    "parser.add_argument('--opt', type=str, default='Adagrad', help='choice of opt')\n",
    "parser.add_argument('--use_gpu', type=int, default=1, help='whether use gpu')\n",
    "parser.add_argument('--minibatch', type=int, default=1, help='whether use minibatch')\n",
    "parser.add_argument('--gpu', type=int, default=0, help='gpu device id')\n",
    "parser.add_argument('--train_epochs', type=int, default=2000, help='num of training epochs')\n",
    "parser.add_argument('--search_epochs', type=int, default=1000, help='num of searching epochs')\n",
    "parser.add_argument('--save', type=str, default='save/', help='experiment name')\n",
    "parser.add_argument('--seed', type=int, default=1, help='random seed')\n",
    "parser.add_argument('--grad_clip', type=float, default=5, help='gradient clipping')\n",
    "parser.add_argument('--train_portion', type=float, default=0.5, help='portion of training data')\n",
    "parser.add_argument('--valid_portion', type=float, default=0.25, help='portion of validation data')\n",
    "parser.add_argument('--dataset', type=str, default='ml-100k', help='dataset')\n",
    "parser.add_argument('--mode', type=str, default='random_single', help='search or single mode')\n",
    "parser.add_argument('--process_name', type=str, default='AutoCF@wenyan', help='process name')\n",
    "parser.add_argument('--embedding_dim', type=int, default=2, help='dimension of embedding')\n",
    "parser.add_argument('--controller', type=str, default='PURE', help='structure of controller')\n",
    "parser.add_argument('--controller_batch_size', type=int, default=4, help='batch size for updating controller')\n",
    "parser.add_argument('--unrolled', action='store_true', default=True, help='use one-step unrolled validation loss')\n",
    "parser.add_argument('--max_batch', type=int, default=65536, help='max batch during training')\n",
    "parser.add_argument('--device', type=int, default=0, help='GPU device')\n",
    "parser.add_argument('--multi', type=int, default=0, help='using multi-training for single architecture')\n",
    "parser.add_argument('--if_valid', type=int, default=1, help='use validation set for tuning single architecture or not')\n",
    "parser.add_argument('--breakpoint', type=str, default='save/log.txt', help='the log file storing existing results')\n",
    "parser.add_argument('--arch_file', type=str, default='src/arch.txt', help='all arches')\n",
    "parser.add_argument('--remaining_arches', type=str, default='src/arch.txt', help='')\n",
    "parser.add_argument('--arch_assign', type=str, default='[0,3]', help='')\n",
    "parser.add_argument('--data_type', type=str, default='implicit', help='explicit or implicit(default)')\n",
    "parser.add_argument('--loss_func', type=str, default='bprloss', help='Implicit loss function')\n",
    "parser.add_argument('--mark', type=str, default='') # \n",
    "parser.add_argument('--sample_portion', type=float, default=0.9, help='portion of data subgraph')\n",
    "parser.add_argument('--anchor_num', type=int, default=15, help='size of anchor sample number')\n",
    "parser.add_argument('--sample_mode', type=str, default='distribute', help='topk or distribute mode of sampling')\n",
    "\n",
    "args = parser.parse_args([])\n",
    "mp.set_start_method('spawn', force=True) # 一种多任务运行方法\n",
    "args.dataset = 'ml-100k'"
   ]
  },
  {
   "cell_type": "code",
   "execution_count": 93,
   "metadata": {},
   "outputs": [
    {
     "name": "stdout",
     "output_type": "stream",
     "text": [
      "data_path: data/ml-100k/u.data\n"
     ]
    }
   ],
   "source": [
    "# 以下文件来自`dataset.py`\n",
    "'''implicit数据集组织方法'''\n",
    "args.datset = 'ml-100k'\n",
    "data_path = args.dataset + '/'\n",
    "users, items, labels = [], [], []\n",
    "if args.dataset == 'ml-100k':\n",
    "    data_path += 'u.data'\n",
    "else:\n",
    "    pass\n",
    "data_path = 'data/' + data_path\n",
    "print(\"data_path: {}\".format(data_path))\n",
    "\n",
    "with open(data_path, 'r') as f:\n",
    "    for i, line in enumerate(f.readlines()):\n",
    "        # e.g. line = 196\t242\t3\t881250949\n",
    "        if args.dataset == 'ml-100k':\n",
    "            line = line.split()\n",
    "        elif args.dataset == 'ml-1m' or args.dataset == 'ml-10m':\n",
    "            line = line.split('::')\n",
    "        elif args.dataset == 'ml-20m':\n",
    "            if i == 0:\n",
    "                continue\n",
    "            line = line.split(',')\n",
    "        elif args.dataset == 'amazon-book':\n",
    "            line = line.split(',')\n",
    "        elif args.dataset == 'yelp' or 'yelp2':\n",
    "            line = line.split(',')\n",
    "        user = int(line[0]) - 1 if args.dataset != 'amazon-book' and args.dataset != 'yelp' and args.dataset != 'yelp2' else int(line[0])\n",
    "        item = int(line[1]) - 1 if args.dataset != 'amazon-book' and args.dataset != 'yelp' and args.dataset != 'yelp2' else int(line[1])\n",
    "        label = float(line[2])\n",
    "        users.append(user)\n",
    "        items.append(item)\n",
    "        labels.append(label)\n",
    "# labels = StandardScaler().fit_transform(np.reshape(labels, [-1, 1])).flatten().tolist()\n",
    "\n",
    "# users, items, labels = shuffle(users, items, labels)"
   ]
  },
  {
   "cell_type": "code",
   "execution_count": 94,
   "metadata": {},
   "outputs": [
    {
     "name": "stdout",
     "output_type": "stream",
     "text": [
      "\n",
      "[Origin data]\n",
      "num_train: 50000, num_valid: 25000\n",
      "num_users: 943, num_items: 1682\n"
     ]
    }
   ],
   "source": [
    "print('\\n[Origin data]')\n",
    "users, items, labels = shuffle(users, items, labels)\n",
    "num_train = int(len(users) * args.train_portion)\n",
    "num_valid = int(len(users) * args.valid_portion)\n",
    "print(\"num_train: {}, num_valid: {}\".format(num_train, num_valid))\n",
    "num_users = max(users) + 1\n",
    "num_items = max(items) + 1\n",
    "# num_users = args.num_users\n",
    "# num_items = args.num_items\n",
    "# print('num_users',num_users,'num_items', num_items)\n",
    "print(\"num_users: {}, num_items: {}\".format(num_users,num_items))\n",
    "user_interactions = torch.from_numpy(sp.coo_matrix(\n",
    "    (labels, (users, items)), shape=(num_users, num_items)).tocsr().toarray())\n",
    "item_interactions = torch.from_numpy(sp.coo_matrix(\n",
    "    (labels, (items, users)), shape=(num_items, num_users)).tocsr().toarray())"
   ]
  },
  {
   "cell_type": "code",
   "execution_count": 95,
   "metadata": {},
   "outputs": [
    {
     "name": "stdout",
     "output_type": "stream",
     "text": [
      "item_freqency.shape: torch.Size([1682])\n",
      "item_sample_prob[:20]: tensor([4.5200e-03, 1.3100e-03, 9.0000e-04, 2.0900e-03, 8.6000e-04, 2.6000e-04,\n",
      "        3.9200e-03, 2.1900e-03, 2.9900e-03, 8.9000e-04, 2.3600e-03, 2.6700e-03,\n",
      "        1.8400e-03, 1.8300e-03, 2.9300e-03, 3.9000e-04, 9.2000e-04, 1.0000e-04,\n",
      "        6.9000e-04, 7.2000e-04]), min: 9.999999747378752e-06, max: 0.005830000154674053, sum: 1.0\n",
      "item_sampled[:20]: [287.  14. 212.  96. 171.  12. 290. 470. 266. 182. 601. 410. 404. 584.\n",
      " 222. 345. 679. 215. 168. 203.]\n",
      "item_interactions_sampled.shape: torch.Size([841, 943])\n"
     ]
    }
   ],
   "source": [
    "from dataset import subample_from_item_interaction_freq, subample_from_item_freq_distributed\n",
    "args.sample_mode = 'distribute'\n",
    "item_down_sample_portion = 0.5\n",
    "if args.sample_mode == 'topk':\n",
    "    users_sampled, items_sampled, labels_sampled = subample_from_item_interaction_freq(item_interactions, item_down_sample_portion)\n",
    "elif args.sample_mode == 'distribute':\n",
    "    users_sampled, items_sampled, labels_sampled = subample_from_item_freq_distributed(item_interactions, item_down_sample_portion)\n",
    "else:\n",
    "    users_sampled, items_sampled, labels_sampled = subample_from_item_interaction_freq(item_interactions, item_down_sample_portion)\n"
   ]
  },
  {
   "cell_type": "code",
   "execution_count": 96,
   "metadata": {},
   "outputs": [
    {
     "name": "stdout",
     "output_type": "stream",
     "text": [
      "\n",
      "[Subsampled data]\n",
      "num_train: 43616, num_valid: 21808\n",
      "num_users: 943, num_items: 841\n",
      "user_interactions.shape: torch.Size([943, 841])\n",
      "item_interactions.shape: torch.Size([841, 943])\n"
     ]
    }
   ],
   "source": [
    "print('\\n[Subsampled data]')\n",
    "users, items, labels = shuffle(users_sampled, items_sampled, labels_sampled)\n",
    "num_train = int(len(users) * args.train_portion)\n",
    "num_valid = int(len(users) * args.valid_portion)\n",
    "print(\"num_train: {}, num_valid: {}\".format(num_train, num_valid))\n",
    "\n",
    "users_train = np.array(users[:num_train], dtype=np.int32)\n",
    "items_train = np.array(items[:num_train], dtype=np.int32)\n",
    "labels_train = np.array(labels[:num_train], dtype=np.float32)\n",
    "\n",
    "num_users = max(users) + 1\n",
    "num_items = max(items) + 1\n",
    "args.num_users = num_users\n",
    "args.num_items = num_items  \n",
    "# print('num_users',num_users,'num_items', num_items)\n",
    "print(\"num_users: {}, num_items: {}\".format(num_users,num_items))\n",
    "\n",
    "user_interactions = torch.from_numpy(sp.coo_matrix(\n",
    "    (labels_train, (users_train, items_train)), shape=(num_users, num_items)).tocsr().toarray())\n",
    "item_interactions = torch.from_numpy(sp.coo_matrix(\n",
    "    (labels_train, (items_train, users_train)), shape=(num_items, num_users)).tocsr().toarray())\n",
    "# print('item_interactions', item_interactions[:5,:5])\n",
    "print(\"user_interactions.shape: {}\".format(user_interactions.shape))\n",
    "print(\"item_interactions.shape: {}\".format(item_interactions.shape))\n",
    "\n"
   ]
  },
  {
   "cell_type": "code",
   "execution_count": 97,
   "metadata": {},
   "outputs": [
    {
     "name": "stdout",
     "output_type": "stream",
     "text": [
      "torch.Size([943, 841]) 21808\n"
     ]
    }
   ],
   "source": [
    "negs_train = np.zeros(len(labels_train), dtype=np.int64)\n",
    "for k in range(len(labels_train)):# users_train中的用户遍历\n",
    "    neg = np.random.randint(num_items)\n",
    "    while user_interactions[users_train[k], neg] != 0:\n",
    "        neg = np.random.randint(num_items) # neg是未与此uk交互的item的index\n",
    "    negs_train[k] = neg # 得到的neg满足user_interactions[users_train[k], neg] == 0\n",
    "negs_train = torch.from_numpy(negs_train)\n",
    "\n",
    "train_queue_pair = [torch.tensor(users[:num_train]),\n",
    "                    torch.tensor(items[:num_train]),\n",
    "                    negs_train, # implicit特有的\n",
    "                    user_interactions, item_interactions]\n",
    "\n",
    "valid_queue = [torch.tensor(users[num_train:num_train+num_valid]),\n",
    "                torch.tensor(items[num_train:num_train+num_valid]),\n",
    "                torch.tensor(labels[num_train:num_train+num_valid]),\n",
    "                user_interactions, item_interactions]\n",
    "\n",
    "users_test = np.array(users[num_train+num_valid:], dtype=np.int32)\n",
    "items_test = np.array(items[num_train+num_valid:], dtype=np.int32)\n",
    "labels_test = np.array(labels[num_train+num_valid:], dtype=np.float32)\n",
    "test_user_interactions = torch.from_numpy(sp.coo_matrix(\n",
    "    (labels_test, (users_test, items_test)), shape=(num_users, num_items)).tocsr().toarray())\n",
    "print(test_user_interactions.shape, np.count_nonzero(test_user_interactions))\n",
    "\n",
    "a = np.argsort(users[num_train+num_valid:])\n",
    "test_queue = [torch.tensor(np.array(users[num_train+num_valid:], dtype=np.int64)[a]),\n",
    "                torch.tensor(np.array(items[num_train+num_valid:], dtype=np.int64)[a]),\n",
    "                test_user_interactions,\n",
    "                user_interactions, item_interactions]"
   ]
  },
  {
   "cell_type": "markdown",
   "metadata": {},
   "source": [
    "# 数据集降采样研究"
   ]
  },
  {
   "cell_type": "code",
   "execution_count": 98,
   "metadata": {},
   "outputs": [
    {
     "data": {
      "text/plain": [
       "<matplotlib.legend.Legend at 0x7fa8a0ba02b0>"
      ]
     },
     "execution_count": 98,
     "metadata": {},
     "output_type": "execute_result"
    },
    {
     "data": {
      "image/png": "[encoded data removed]",
      "text/plain": [
       "<Figure size 432x288 with 1 Axes>"
      ]
     },
     "metadata": {
      "needs_background": "light"
     },
     "output_type": "display_data"
    }
   ],
   "source": [
    "# GMF, MLP, 使用最大的u-i矩阵进行downsample\n",
    "# 分割为train, valid, test\n",
    "import numpy as np\n",
    "import matplotlib.pyplot as plt\n",
    "origin_score = 0.1488 # GMF\n",
    "sample_portion = [0.1, 0.2, 0.25, 0.5, 0.75, 0.8, 1.0]\n",
    "sample_portion = np.array(sample_portion)\n",
    "performance_dict = {'GMF':[0.3826,0.2742 ,0.2485, 0.1792, 0.1473, 0.1533,0.1256], \n",
    "                    'MLP': [0.4234, 0.2268 , 0.1261, 0.1124, 0.1479, 0.1369,0.1331],\n",
    "                    'FISM': [0.4219,0.1874,0.2093,0.1541,0.1317,0.1328,0.1268],\n",
    "                    'JNCF_Dot': [0.4816,0.2936,0.2604,0.1307,0.1630,0.1720,0.1721]} # recall20, 0.1332\n",
    "\n",
    "plt.figure()\n",
    "for k in performance_dict:\n",
    "    performance_dict[k] = np.array(performance_dict[k])\n",
    "    plt.plot(sample_portion, performance_dict[k], label=k)\n",
    "# plt.plot(sample_portion, performance_dict['MLP'], color='chocolate', label='MLP')\n",
    "plt.plot([0, 1.], [origin_score, origin_score], c='b', linestyle='--', label='GMF normal')\n",
    "plt.xlabel('sample_portion')\n",
    "plt.ylabel('recall@20')# AUC\n",
    "plt.legend() # 添加图例\n",
    "# Graph vs subgraphs\n",
    "# srcc vs. sample portion (different sample methods, )\n",
    "\n",
    "# add gcn + sample framework"
   ]
  },
  {
   "cell_type": "code",
   "execution_count": 99,
   "metadata": {},
   "outputs": [
    {
     "data": {
      "text/plain": [
       "<matplotlib.legend.Legend at 0x7fa835597be0>"
      ]
     },
     "execution_count": 99,
     "metadata": {},
     "output_type": "execute_result"
    },
    {
     "data": {
      "image/png": "[encoded data removed]",
      "text/plain": [
       "<Figure size 432x288 with 1 Axes>"
      ]
     },
     "metadata": {
      "needs_background": "light"
     },
     "output_type": "display_data"
    }
   ],
   "source": [
    "# srcc, anchor num = 20\n",
    "import matplotlib.pyplot as plt\n",
    "origin_score = 0.1488 # GMF\n",
    "sample_portion = [0.1, 0.2,0.3,0.4, 0.5, 0.6,0.75, 0.8, 0.9, 1.0]\n",
    "            # 0.5316271089184414, #0.25\n",
    "srcc_list = [0.4434389140271493,0.8448804762131605, \n",
    "            0.8179209853255203,\n",
    "             0.7654135338345864,0.9066967644845748,\n",
    "             0.7699248120300751,0.7601809954751131,\n",
    "             0.9112781954887217, 0.9157261098570354, 0.8992481203007519]\n",
    "\n",
    "plt.plot(sample_portion, srcc_list, label='srcc item freq N-20')\n",
    "plt.plot([0, 1.], [1., 1.], c='b', linestyle='--', label='normal')\n",
    "plt.xlabel('sample_portion')\n",
    "plt.ylabel('srcc') # AUC\n",
    "plt.legend() "
   ]
  },
  {
   "cell_type": "code",
   "execution_count": 100,
   "metadata": {},
   "outputs": [
    {
     "data": {
      "text/plain": [
       "Text(0, 0.5, 'srcc')"
      ]
     },
     "execution_count": 100,
     "metadata": {},
     "output_type": "execute_result"
    },
    {
     "data": {
      "image/png": "[encoded data removed]",
      "text/plain": [
       "<Figure size 432x288 with 1 Axes>"
      ]
     },
     "metadata": {
      "needs_background": "light"
     },
     "output_type": "display_data"
    }
   ],
   "source": [
    "from sklearn.utils import shuffle\n",
    "import numpy as np\n",
    "a = list(range(1,10,1))\n",
    "b = list(range(101,110,1))\n",
    "shuffle(a,b)\n",
    "srcclist_dict = {'0.05': [0.2840624656086199, 0.32075985557462455,\n",
    "                        0.3291081884072281,0.49620912559521674,\n",
    "                        0.4344479062386131,0.5035650084624292], # sp=0.05, config num=40\n",
    "                '0.2': [0.8958528962384132, 0.8665290184594854,\n",
    "                        0.8326999091548971, 0.5934421615536167,\n",
    "                        0.7847352921062751, 0.8562178324241179,\n",
    "                        0.8562168073622537, 0.8305683477480386], # sp=0.2, config num=40\n",
    "                '0.4': [0.894507248040673,0.8740254604352637,\n",
    "                        0.8521037581492852, 0.6189939939939939,\n",
    "                        0.7171999588415492,0.8277172494659222 ], # sp=0.4, config num=40\n",
    "                '0.6': [0.9525752884886011, 0.7670937846892223,\n",
    "                        0.7757294305281922, 0.831332082551595,\n",
    "                        0.7839106665856177, 0.7447337760611202 ],\n",
    "                '0.8':[0.7698803871212666, 0.8918196379342448,\n",
    "                        0.9072996969653808, 0.9407018156744857,\n",
    "                        0.8912268933745117, 0.8904135338345863],\n",
    "                '0.9': [0.9487804878048782, 0.8319490159654064]\n",
    "                }\n",
    "aaa09 = [0.9111618743289386]# anchor_num=80\n",
    "srcc_avg = dict()\n",
    "srcc_std = dict()\n",
    "sample_portion = []\n",
    "srcc_list = []\n",
    "for sp in srcclist_dict:\n",
    "    sample_portion.append(float(sp))\n",
    "    srcc_avg[sp] = np.mean(srcclist_dict[sp])\n",
    "    srcc_std[sp] = np.std(srcclist_dict[sp])\n",
    "    srcc_list.append(srcc_avg[sp])\n",
    "\n",
    "plt.errorbar(sample_portion, srcc_list, yerr=[srcc_std[k] for k in srcc_std], fmt=\"o\")\n",
    "\n",
    "plt.plot(sample_portion, srcc_list, label='srcc item freq N-20')\n",
    "# plt.plot([0, 1.], [1., 1.], c='b', linestyle='--', label='normal')\n",
    "plt.xlabel('sample_portion')\n",
    "plt.ylabel('srcc') # AUC\n",
    "# plt.legend() "
   ]
  },
  {
   "cell_type": "code",
   "execution_count": null,
   "metadata": {},
   "outputs": [],
   "source": [
    "device = 'cuda:0'\n",
    "# scores = torch.randn(5,4)\n",
    "# print(scores)\n",
    "topk = 2\n",
    "scores = torch.tensor([[-0.9695,  0.1512,  0.2890, -0.9094],\n",
    "        [-1.4438, -0.2336,  1.4906, -0.6801],\n",
    "        [ 0.6354, -0.1913, -1.6836,  0.5903],\n",
    "        [ 1.0403,  0.0475,  1.6605,  2.3692],\n",
    "        [ 0.3569,  1.3807,  0.5871, -0.2092]])\n",
    "ground_truth = torch.FloatTensor([[2, 1, 4, 4],\n",
    "                [1, 4, 1, 2],\n",
    "                [4, 4, 2, 1],\n",
    "                [4, 4, 4, 3],\n",
    "                [3, 3, 2, 4]]).to(device)\n",
    "# ground_truth = torch.FloatTensor(ground_truth)\n",
    "print(ground_truth)\n",
    "scores = scores.to(device)\n",
    "print(scores)\n",
    "values, col_indice = torch.topk(scores, k=topk)\n",
    "print(values,'\\n', col_indice)\n",
    "row_indice = torch.zeros_like(col_indice) \\\n",
    "                    + torch.arange(scores.shape[0], device=device, dtype=torch.long).view(-1, 1)\n",
    "print(row_indice)\n",
    "\n",
    "print(row_indice.view(-1), col_indice.view(-1))\n",
    "is_hit = ground_truth[row_indice.view(-1), col_indice.view(-1)].view(-1, topk)\n",
    "print(is_hit)\n",
    "is_hit = is_hit.sum(dim=1)\n",
    "print(is_hit)\n",
    "num_pos = ground_truth.sum(dim=1)  #positive\n",
    "print(num_pos)\n",
    "_cnt = scores.shape[0] - (num_pos == 0).sum().item()\n",
    "_sum = (is_hit/(num_pos+1e-8)).sum().item()\n",
    "print(_sum, _cnt , _sum/_cnt)\n",
    "\n",
    "labels = torch.ones(scores.size()[0], device=scores.device)\n",
    "labels = torch.reshape(labels, [-1, 1])\n",
    "print(labels)\n",
    "\n",
    "import numpy as np\n",
    "\n",
    "def ndcg(golden, current, n = -1):\n",
    "    log2_table = np.log2(np.arange(2, 102))\n",
    "\n",
    "    def dcg_at_n(rel, n):\n",
    "        rel = np.asfarray(rel)[:n]\n",
    "        dcg = np.sum(np.divide(np.power(2, rel) - 1, log2_table[:rel.shape[0]]))\n",
    "        return dcg\n",
    "\n",
    "    ndcgs = []\n",
    "    for i in range(len(current)):\n",
    "        k = len(current[i]) if n == -1 else n\n",
    "        idcg = dcg_at_n(sorted(golden[i], reverse=True), n=k)\n",
    "        dcg = dcg_at_n(current[i], n=k)\n",
    "        tmp_ndcg = 0 if idcg == 0 else dcg / idcg\n",
    "        ndcgs.append(tmp_ndcg)\n",
    "    return 0. if len(ndcgs) == 0 else sum(ndcgs) / (len(ndcgs))\n",
    "a = torch.tensor([[1,2,3],[4,5,6]])\n",
    "# a, a.t()"
   ]
  }
 ],
 "metadata": {
  "interpreter": {
   "hash": "b8a63d4c0db09ff4783858371cb915982282207dafa2604e2787a0daec658aa4"
  },
  "kernelspec": {
   "display_name": "Python 3.8.12 ('dlrs')",
   "language": "python",
   "name": "python3"
  },
  "language_info": {
   "codemirror_mode": {
    "name": "ipython",
    "version": 3
   },
   "file_extension": ".py",
   "mimetype": "text/x-python",
   "name": "python",
   "nbconvert_exporter": "python",
   "pygments_lexer": "ipython3",
   "version": "3.8.12"
  },
  "orig_nbformat": 4
 },
 "nbformat": 4,
 "nbformat_minor": 2
}
