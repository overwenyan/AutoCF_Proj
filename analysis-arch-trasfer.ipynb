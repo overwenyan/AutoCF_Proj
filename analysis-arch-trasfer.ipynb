{
 "cells": [
  {
   "cell_type": "markdown",
   "metadata": {},
   "source": [
    "# analysis arch transfer among datasets(origin)"
   ]
  },
  {
   "cell_type": "code",
   "execution_count": 139,
   "metadata": {},
   "outputs": [],
   "source": [
    "import numpy as np\n",
    "import json\n",
    "import matplotlib.pyplot as plt\n",
    "import pandas as pd"
   ]
  },
  {
   "cell_type": "code",
   "execution_count": 140,
   "metadata": {},
   "outputs": [],
   "source": [
    "def performance_file_to_df(json_dir):\n",
    "    import pandas as pd\n",
    "    # json_dir = \n",
    "    with open(json_dir) as json_f:\n",
    "        df = pd.read_json(json_f)\n",
    "    # print(df)\n",
    "    def arch_dictstr_to_encoding(arch_dictstr):\n",
    "        # print(arch_dictstr)\n",
    "        arch_dict = eval(arch_dictstr)\n",
    "        arch_str = '{}_{}_{}_{}_{}'.format(arch_dict['cf'], arch_dict['emb']['u'], arch_dict['emb']['i'], arch_dict['ifc'], arch_dict['pred'])\n",
    "        return arch_str\n",
    "    data_new = df.iloc[:,0].apply(arch_dictstr_to_encoding)\n",
    "    df.iloc[:,0] = data_new\n",
    "    df.columns = ['arch', 'performance']\n",
    "    return df"
   ]
  },
  {
   "cell_type": "code",
   "execution_count": 141,
   "metadata": {},
   "outputs": [],
   "source": [
    "df_ml_100k = performance_file_to_df('save/arch_dict_ml-100k_recall20_best.json')\n",
    "df_ml_1m = performance_file_to_df('save/arch_dict_ml-1m_recall20_best.json')\n",
    "df_yelp  = performance_file_to_df('save/arch_dict_yelp_recall20_best.json')\n",
    "df_ml_100k_sorted = df_ml_100k.sort_values(by='arch')\n",
    "df_yelp_sorted = df_yelp.sort_values(by='arch')\n",
    "df_ml_1m_sorted = df_ml_1m.sort_values(by='arch')\n"
   ]
  },
  {
   "cell_type": "code",
   "execution_count": 142,
   "metadata": {},
   "outputs": [
    {
     "name": "stdout",
     "output_type": "stream",
     "text": [
      "srcc_ml_100k_to_yelp: 0.7443013732430632, srcc_ml_100k_to_ml_1m: 0.7582656120110806, srcc_ml_1m_to_yelp: 0.5312109937585747\n"
     ]
    }
   ],
   "source": [
    "# df_ml_100k.set_index('arch').T.to_dict('list')\n",
    "# ml-100k to yelp\n",
    "from scipy import stats\n",
    "srcc_ml_100k_to_yelp = stats.spearmanr(df_ml_100k_sorted.iloc[:, 1], df_yelp_sorted.iloc[:, 1]).correlation\n",
    "srcc_ml_100k_to_ml_1m = stats.spearmanr(df_ml_100k_sorted.iloc[:, 1], df_ml_1m_sorted.iloc[:, 1]).correlation\n",
    "srcc_ml_1m_to_yelp = stats.spearmanr(df_ml_1m_sorted.iloc[:, 1], df_yelp_sorted.iloc[:, 1]).correlation\n",
    "\n",
    "print(f'srcc_ml_100k_to_yelp: {srcc_ml_100k_to_yelp}, srcc_ml_100k_to_ml_1m: {srcc_ml_100k_to_ml_1m}, srcc_ml_1m_to_yelp: {srcc_ml_1m_to_yelp}')"
   ]
  },
  {
   "cell_type": "code",
   "execution_count": 143,
   "metadata": {},
   "outputs": [
    {
     "data": {
      "text/plain": [
       "'\\njson_dir=\\'save/random_nas_ml-1m_perf_dict0.json\\'\\nwith open(json_dir) as json_f:\\n    # df = pd.read_json(json_f)\\n    data = json.load(json_f)    \\ndata_best_perf = []\\nfor arch_dict in data:\\n    best_perf_k = np.max(np.array(data[arch_dict]))\\n    data_best_perf.append([arch_dict, best_perf_k])\\nwith open(\\'save/results.json\\', \\'w\\', encoding=\"utf8\") as result_f:\\n    json.dump(data_best_perf, result_f,sort_keys=False, indent=4, separators=(\\',\\', \\': \\'))\\n'"
      ]
     },
     "execution_count": 143,
     "metadata": {},
     "output_type": "execute_result"
    }
   ],
   "source": [
    "# for idx,row in df_ml_100k.iterrows():\n",
    "#     if row[0] not in df_ml_1m['arch'].tolist():\n",
    "#         print(idx, row[0]) # 31-40\n",
    "\n",
    "# df_ml_100k['arch'].tolist()\n",
    "# df_ml_1m_list = performance_file_to_df()\n",
    "\n",
    "'''\n",
    "json_dir='save/random_nas_ml-1m_perf_dict0.json'\n",
    "with open(json_dir) as json_f:\n",
    "    # df = pd.read_json(json_f)\n",
    "    data = json.load(json_f)    \n",
    "data_best_perf = []\n",
    "for arch_dict in data:\n",
    "    best_perf_k = np.max(np.array(data[arch_dict]))\n",
    "    data_best_perf.append([arch_dict, best_perf_k])\n",
    "with open('save/results.json', 'w', encoding=\"utf8\") as result_f:\n",
    "    json.dump(data_best_perf, result_f,sort_keys=False, indent=4, separators=(',', ': '))\n",
    "'''"
   ]
  }
 ],
 "metadata": {
  "kernelspec": {
   "display_name": "Python 3.8.13 ('dlrs')",
   "language": "python",
   "name": "python3"
  },
  "language_info": {
   "codemirror_mode": {
    "name": "ipython",
    "version": 3
   },
   "file_extension": ".py",
   "mimetype": "text/x-python",
   "name": "python",
   "nbconvert_exporter": "python",
   "pygments_lexer": "ipython3",
   "version": "3.8.13"
  },
  "orig_nbformat": 4,
  "vscode": {
   "interpreter": {
    "hash": "07c3ee1cf017444eea205f4f170733704bc25c32c3d72c6dcf3487470a4a8cad"
   }
  }
 },
 "nbformat": 4,
 "nbformat_minor": 2
}
