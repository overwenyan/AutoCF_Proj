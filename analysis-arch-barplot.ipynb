{
 "cells": [
  {
   "cell_type": "markdown",
   "metadata": {},
   "source": [
    "# ranking random single "
   ]
  },
  {
   "cell_type": "code",
   "execution_count": 1,
   "metadata": {},
   "outputs": [],
   "source": [
    "import json\n",
    "import os\n",
    "from utils import get_perf_from_random_nas, get_recall_rank_from_perf_dict\n",
    "%load_ext autoreload\n",
    "%autoreload 2"
   ]
  },
  {
   "cell_type": "code",
   "execution_count": 3,
   "metadata": {},
   "outputs": [
    {
     "name": "stdout",
     "output_type": "stream",
     "text": [
      "max_recall on ml-100k:\n",
      " {'20': 0.22599699547950258, '10': 0.1394285202026367}\n",
      "\n",
      "max_arch on ml-100k:\n",
      " {'20': \"{'cf': 'rr', 'emb': {'u': 'mat', 'i': 'mat'}, 'ifc': 'mul', 'pred': 'h'}\", '10': \"{'cf': 'rr', 'emb': {'u': 'mat', 'i': 'mat'}, 'ifc': 'mul', 'pred': 'h'}\"}\n",
      "\n"
     ]
    }
   ],
   "source": [
    "# ml-100k  \n",
    "cur_dataset = 'ml-100k'\n",
    "data_type = 'implicit' \n",
    "logfilePath = 'save/'\n",
    "random_nas_perf_dict0 = {}\n",
    "nums = list([1] + list(range(4,16)) + [18,16])#[17,16]\n",
    "filelist = [os.path.join(logfilePath, \"random_nas_perf\" + str(num) + \".json\") for num in nums]\n",
    "\n",
    "save_name1 = os.path.join(logfilePath, \"random_nas_\"+ cur_dataset +\"_perf_dict0.json\")\n",
    "# save_name1 = os.path.join(logfilePath, \"arch_dict_ml-100k_recall20_best.json\")\n",
    "save_name2 = os.path.join(logfilePath, cur_dataset+\"_\"+data_type+\"-arches-rank.txt\")\n",
    "random_nas_perf_dict1 = get_perf_from_random_nas(cur_dataset, filelist, save_name1,logfilePath='save/')\n",
    "arch_dict_recall20 = get_recall_rank_from_perf_dict(cur_dataset,save_name1,save_name2, logfilePath='save/')"
   ]
  },
  {
   "cell_type": "code",
   "execution_count": 4,
   "metadata": {},
   "outputs": [
    {
     "name": "stdout",
     "output_type": "stream",
     "text": [
      "max_recall on ml-1m:\n",
      " {'20': 0.14095635579149146, '10': 0.08254244540915878}\n",
      "\n",
      "max_arch on ml-1m:\n",
      " {'20': \"{'cf': 'rr', 'emb': {'u': 'mat', 'i': 'mat'}, 'ifc': 'mul', 'pred': 'h'}\", '10': \"{'cf': 'rr', 'emb': {'u': 'mat', 'i': 'mat'}, 'ifc': 'mul', 'pred': 'h'}\"}\n",
      "\n"
     ]
    }
   ],
   "source": [
    "# ml-1m\n",
    "import json\n",
    "import numpy as np\n",
    "cur_dataset = 'ml-1m' \n",
    "data_type = 'implicit' \n",
    "logfilePath = 'save/'\n",
    "random_nas_perf_dict0 = {}\n",
    "nums = list(range(1,15))\n",
    "filelist = [os.path.join(logfilePath, \"random_nas_\"+cur_dataset+\"_perf_\" + str(num) + \".json\") for num in nums]\n",
    "\n",
    "save_name1 = os.path.join(logfilePath, \"random_nas_\"+ cur_dataset +\"_perf_dict0.json\")\n",
    "save_name2 = os.path.join(logfilePath, cur_dataset+\"-arches-rank.txt\")\n",
    "random_nas_perf_dict0 = get_perf_from_random_nas(cur_dataset, filelist, save_name1,logfilePath='save/')\n",
    "arch_dict_recall20 = get_recall_rank_from_perf_dict(cur_dataset,save_name1,save_name2, logfilePath='save/')"
   ]
  },
  {
   "cell_type": "code",
   "execution_count": 5,
   "metadata": {},
   "outputs": [
    {
     "name": "stdout",
     "output_type": "stream",
     "text": [
      "max_recall on ml-100k:\n",
      " {'20': 0.22599699547950258, '10': 0.1394285202026367}\n",
      "\n",
      "max_arch on ml-100k:\n",
      " {'20': \"{'cf': 'rr', 'emb': {'u': 'mat', 'i': 'mat'}, 'ifc': 'mul', 'pred': 'h'}\", '10': \"{'cf': 'rr', 'emb': {'u': 'mat', 'i': 'mat'}, 'ifc': 'mul', 'pred': 'h'}\"}\n",
      "\n"
     ]
    }
   ],
   "source": [
    "# ml-1m\n",
    "import json\n",
    "import numpy as np\n",
    "cur_dataset = 'ml-100k' \n",
    "data_type = 'implicit' \n",
    "logfilePath = 'save/'\n",
    "random_nas_perf_dict0 = {}\n",
    "nums = list(range(1,15))\n",
    "filelist = [os.path.join(logfilePath, \"random_nas_\"+cur_dataset+'_'+data_type+\"_perf_\" + str(num) + \".json\") for num in nums]\n",
    "\n",
    "save_name1 = os.path.join(logfilePath, \"random_nas_\"+ cur_dataset+'_'+data_type +\"_perf_dict0.json\")\n",
    "save_name2 = os.path.join(logfilePath, cur_dataset+'_'+data_type+\"-arches-rank.txt\")\n",
    "random_nas_perf_dict0 = get_perf_from_random_nas(cur_dataset, filelist, save_name1,logfilePath='save/')\n",
    "arch_dict_recall20 = get_recall_rank_from_perf_dict(cur_dataset,save_name1,save_name2, logfilePath='save/')"
   ]
  },
  {
   "cell_type": "code",
   "execution_count": 35,
   "metadata": {},
   "outputs": [
    {
     "name": "stdout",
     "output_type": "stream",
     "text": [
      "max_recall on yelp:\n",
      " {'20': 0.06344142007046058, '10': 0.03766977075670586}\n",
      "\n",
      "max_arch on yelp:\n",
      " {'20': \"{'cf': 'rr', 'emb': {'u': 'mat', 'i': 'mat'}, 'ifc': 'mul', 'pred': 'h'}\", '10': \"{'cf': 'rr', 'emb': {'u': 'mat', 'i': 'mat'}, 'ifc': 'mul', 'pred': 'i'}\"}\n",
      "\n"
     ]
    }
   ],
   "source": [
    "# yelp\n",
    "import json\n",
    "import numpy as np\n",
    "cur_dataset = 'yelp' \n",
    "logfilePath = 'save/'\n",
    "random_nas_perf_dict0 = {}\n",
    "nums = list(range(1,15))\n",
    "filelist = [os.path.join(logfilePath, \"random_nas_\"+cur_dataset+\"_perf_\" + str(num) + \".json\") for num in nums]\n",
    "\n",
    "save_name1 = os.path.join(logfilePath, \"random_nas_\"+ cur_dataset +\"_perf_dict0.json\")\n",
    "save_name2 = os.path.join(logfilePath, cur_dataset+\"-arches-rank.txt\")\n",
    "random_nas_perf_dict0 = get_perf_from_random_nas(cur_dataset, filelist, save_name1,logfilePath='save/')\n",
    "arch_dict_recall20 = get_recall_rank_from_perf_dict(cur_dataset,save_name1,save_name2, logfilePath='save/')\n"
   ]
  },
  {
   "cell_type": "code",
   "execution_count": 33,
   "metadata": {},
   "outputs": [
    {
     "name": "stdout",
     "output_type": "stream",
     "text": [
      "max_recall on yelp:\n",
      " {'20': 0.06344142007046058, '10': 0.03766977075670586}\n",
      "\n",
      "max_arch on yelp:\n",
      " {'20': \"{'cf': 'rr', 'emb': {'u': 'mat', 'i': 'mat'}, 'ifc': 'mul', 'pred': 'h'}\", '10': \"{'cf': 'rr', 'emb': {'u': 'mat', 'i': 'mat'}, 'ifc': 'mul', 'pred': 'i'}\"}\n",
      "\n"
     ]
    }
   ],
   "source": [
    "# ml-100k explicit\n",
    "import json\n",
    "import numpy as np\n",
    "cur_dataset = 'ml-100k' \n",
    "logfilePath = 'save/'\n",
    "random_nas_perf_dict0 = {}\n",
    "nums = list(range(1,15))\n",
    "filelist = [os.path.join(logfilePath, \"random_nas_\"+cur_dataset+\"_perf_\" + str(num) + \".json\") for num in nums]\n",
    "save_name1 = os.path.join(logfilePath, \"random_nas_\"+ cur_dataset +\"_perf_dict0.json\")\n",
    "random_nas_perf_dict0 = get_perf_from_random_nas(cur_dataset, filelist, save_name1, logfilePath='save/')\n",
    "\n",
    "# dict_path = os.path.join(logfilePath, \"random_nas_\"+ cur_dataset +\"_perf_dict0.json\")\n",
    "save_name2 = os.path.join(logfilePath, cur_dataset+\"-arches-rank.txt\")\n",
    "arch_dict_recall20 = get_recall_rank_from_perf_dict(cur_dataset,save_name1,save_name2, logfilePath='save/')\n"
   ]
  },
  {
   "cell_type": "code",
   "execution_count": 3,
   "metadata": {},
   "outputs": [
    {
     "data": {
      "text/plain": [
       "135"
      ]
     },
     "execution_count": 3,
     "metadata": {},
     "output_type": "execute_result"
    }
   ],
   "source": [
    "# # arch_batch_size = 1  \n",
    "# from controller import sample_arch_cf\n",
    "# remaining_arches_encoding = open(\"save/ml-100k_arches.txt\", 'r').readlines() # opten the file of arch\n",
    "# remaining_arches_encoding = list(map(lambda x: x.strip(), remaining_arches_encoding))\n",
    "# # remaining_arches_encoding\n",
    "# arches_single = []\n",
    "# # arches_single\n",
    "# arch_cnt = 0\n",
    "# klist = [k for k in random_nas_perf_dict0]\n",
    "# # print(klist[5])\n",
    "# for arch_encoding in remaining_arches_encoding:\n",
    "#     if arch_cnt >= len(klist):\n",
    "#         break\n",
    "#     arch_single = sample_arch_cf()\n",
    "#     arch_single['cf'], arch_single['emb']['u'], arch_single['emb']['i'], arch_single['ifc'], arch_single['pred'] = arch_encoding.split('_')\n",
    "#     arches_single.append(arch_single)\n",
    "#     # print(arch_single)\n",
    "#     if klist[arch_cnt] != str(arch_single):\n",
    "#         print(\"arch_cnt: {}\\n arch_single: {}\\n klist[arch_cnt]: {}\\n\".format(arch_cnt,arch_single,klist[arch_cnt]))\n",
    "#     arch_cnt += 1\n",
    "\n",
    "# arch_cnt\n",
    "  "
   ]
  },
  {
   "cell_type": "code",
   "execution_count": 15,
   "metadata": {},
   "outputs": [],
   "source": [
    "# search_start = time()\n",
    "from controller import sample_arch_cf\n",
    "performance = {}\n",
    "best_arch, best_rmse = None, 100000\n",
    "arch_batch_size = 1  \n",
    "# args.search_epochs = min(args.search_epochs, SPACE) # SPACE=135\n",
    "remaining_arches = './save/ml-100k-arches-rank.txt'\n",
    "remaining_arches_encoding = open(remaining_arches, 'r').readlines() # opten the file of arch\n",
    "remaining_arches_encoding = list(map(lambda x: x.strip(), remaining_arches_encoding))\n",
    "\n",
    "\n",
    "# arch_count = 0\n",
    "# print(\"remaining_arches_encoding: {}\".format(remaining_arches_encoding))\n",
    "\n",
    "arch_stat_list_dict = {'cf':[], 'emb': {'u':[], 'i':[]}, 'ifc':[], 'pred':[]}\n",
    "\n",
    "for i in range(len(remaining_arches_encoding)):\n",
    "    arch_single = sample_arch_cf()\n",
    "    arch_encoding = remaining_arches_encoding[i]\n",
    "    arch_single['cf'], arch_single['emb']['u'], arch_single['emb']['i'], arch_single['ifc'], arch_single['pred'] = arch_encoding.split('_')\n",
    "    # print(arch_single)\n",
    "    arch_stat_list_dict['cf'].append(arch_single['cf'])\n",
    "    arch_stat_list_dict['emb']['u'].append(arch_single['emb']['u'])\n",
    "    arch_stat_list_dict['emb']['i'].append(arch_single['emb']['i'])\n",
    "    arch_stat_list_dict['ifc'].append(arch_single['ifc'])\n",
    "    arch_stat_list_dict['pred'].append(arch_single['pred'])"
   ]
  },
  {
   "cell_type": "code",
   "execution_count": 28,
   "metadata": {},
   "outputs": [
    {
     "data": {
      "image/png": "[encoded data removed]",
      "text/plain": [
       "<Figure size 432x288 with 1 Axes>"
      ]
     },
     "metadata": {
      "needs_background": "light"
     },
     "output_type": "display_data"
    }
   ],
   "source": [
    "\n",
    "# CF_MODEL = ['ui', 'ur', 'ri', 'rr'] # Input Encoding\n",
    "from models import CF_MODEL\n",
    "import numpy as np\n",
    "from utils import violin_plot, hp_boxplot, get_rank_from_score, get_srcc_from_rank\n",
    "import matplotlib.pyplot as plt\n",
    "# cf_hp_list0 = CF_MODEL\n",
    "# lr_hp_list = [str(float(lr)) for lr in lr_hp_list0]\n",
    "cf_groups_perf = [[] for item in CF_MODEL]\n",
    "\n",
    "rank = 1\n",
    "for cf in arch_stat_list_dict['cf'] :\n",
    "    cf_groups_perf[CF_MODEL.index(cf)].append(rank)\n",
    "    rank += 1\n",
    "\n",
    "plt.figure()\n",
    "plt.boxplot(cf_groups_perf, labels=CF_MODEL)\n",
    "figtitle = 'arch_cf_rank_'\n",
    "plt.title(figtitle + ' boxplot')\n",
    "plt.xlabel(figtitle)\n",
    "plt.ylabel('model rank recall@20')\n",
    "# fig = plt.gcf()\n",
    "plt.savefig(os.path.join('box_violin_plot', os.path.join(figtitle + 'boxplot')))\n",
    "plt.show()\n"
   ]
  },
  {
   "cell_type": "code",
   "execution_count": 37,
   "metadata": {},
   "outputs": [
    {
     "data": {
      "image/png": "[encoded data removed]",
      "text/plain": [
       "<Figure size 432x288 with 1 Axes>"
      ]
     },
     "metadata": {
      "needs_background": "light"
     },
     "output_type": "display_data"
    }
   ],
   "source": [
    "\n",
    "# CF_EMB = ['mat', 'mlp'] # Embedding Function\n",
    "from models import CF_EMB\n",
    "import numpy as np\n",
    "from utils import violin_plot, hp_boxplot, get_rank_from_score, get_srcc_from_rank\n",
    "import matplotlib.pyplot as plt\n",
    "emb_groups_perf = [[] for item in CF_EMB]\n",
    "\n",
    "rank = 1\n",
    "for emb in arch_stat_list_dict['emb']['u'] :\n",
    "    emb_groups_perf[CF_EMB.index(emb)].append(rank)\n",
    "    rank += 1\n",
    "\n",
    "plt.figure()\n",
    "plt.boxplot(emb_groups_perf, labels=CF_EMB)\n",
    "figtitle = 'arch_emb_u_rank'\n",
    "plt.title(figtitle + ' boxplot')\n",
    "plt.xlabel(figtitle)\n",
    "plt.ylabel('model rank recall@20')\n",
    "# fig = plt.gcf()\n",
    "plt.savefig(os.path.join('box_violin_plot', os.path.join(figtitle + '_boxplot')))\n",
    "plt.show()\n"
   ]
  },
  {
   "cell_type": "code",
   "execution_count": 38,
   "metadata": {},
   "outputs": [
    {
     "data": {
      "image/png": "[encoded data removed]",
      "text/plain": [
       "<Figure size 432x288 with 1 Axes>"
      ]
     },
     "metadata": {
      "needs_background": "light"
     },
     "output_type": "display_data"
    }
   ],
   "source": [
    "# CF_EMB = ['mat', 'mlp'] # Embedding Function\n",
    "from models import CF_EMB\n",
    "import numpy as np\n",
    "from utils import violin_plot, hp_boxplot, get_rank_from_score, get_srcc_from_rank\n",
    "import matplotlib.pyplot as plt\n",
    "emb_groups_perf = [[] for item in CF_EMB]\n",
    "\n",
    "rank = 1\n",
    "for emb in arch_stat_list_dict['emb']['i'] :\n",
    "    emb_groups_perf[CF_EMB.index(emb)].append(rank)\n",
    "    rank += 1\n",
    "\n",
    "plt.figure()\n",
    "plt.boxplot(emb_groups_perf, labels=CF_EMB)\n",
    "figtitle = 'arch_emb_i_rank'\n",
    "plt.title(figtitle + ' boxplot')\n",
    "plt.xlabel(figtitle)\n",
    "plt.ylabel('model rank recall@20')\n",
    "# fig = plt.gcf()\n",
    "plt.savefig(os.path.join('box_violin_plot', os.path.join(figtitle + '_boxplot')))\n",
    "plt.show()\n"
   ]
  },
  {
   "cell_type": "code",
   "execution_count": 40,
   "metadata": {},
   "outputs": [
    {
     "data": {
      "image/png": "[encoded data removed]",
      "text/plain": [
       "<Figure size 432x288 with 1 Axes>"
      ]
     },
     "metadata": {
      "needs_background": "light"
     },
     "output_type": "display_data"
    }
   ],
   "source": [
    "from models import CF_PRED\n",
    "import numpy as np\n",
    "from utils import violin_plot, hp_boxplot, get_rank_from_score, get_srcc_from_rank\n",
    "import matplotlib.pyplot as plt\n",
    "pred_groups_perf = [[] for item in CF_PRED]\n",
    "\n",
    "rank = 1\n",
    "for pred in arch_stat_list_dict['pred'] :\n",
    "    pred_groups_perf[CF_PRED.index(pred)].append(rank)\n",
    "    rank += 1\n",
    "\n",
    "plt.figure()\n",
    "plt.boxplot(pred_groups_perf, labels=CF_PRED)\n",
    "figtitle = 'arch_pred_rank'\n",
    "plt.title(figtitle + ' boxplot')\n",
    "plt.xlabel(figtitle)\n",
    "plt.ylabel('model rank recall@20')\n",
    "# fig = plt.gcf()\n",
    "plt.savefig(os.path.join('box_violin_plot', os.path.join(figtitle + '_boxplot')))\n",
    "plt.show()\n"
   ]
  },
  {
   "cell_type": "code",
   "execution_count": null,
   "metadata": {},
   "outputs": [],
   "source": [
    "\n",
    "# CF_EMB = ['mat', 'mlp'] # Embedding Function\n",
    "from models import CF_IFC\n",
    "import numpy as np\n",
    "from utils import violin_plot, hp_boxplot, get_rank_from_score, get_srcc_from_rank\n",
    "import matplotlib.pyplot as plt\n",
    "ifc_groups_perf = [[] for item in CF_IFC]\n",
    "\n",
    "rank = 1\n",
    "for ifc in arch_stat_list_dict['ifc'] :\n",
    "    ifc_groups_perf[CF_IFC.index(ifc)].append(rank)\n",
    "    rank += 1\n",
    "\n",
    "plt.figure()\n",
    "plt.boxplot(ifc_groups_perf, labels=CF_IFC)\n",
    "figtitle = 'arch_ifc_rank'\n",
    "plt.title(figtitle + ' boxplot')\n",
    "plt.xlabel(figtitle)\n",
    "plt.ylabel('model rank recall@20')\n",
    "# fig = plt.gcf()\n",
    "plt.savefig(os.path.join('box_violin_plot', os.path.join(figtitle + '_boxplot')))\n",
    "plt.show()\n"
   ]
  },
  {
   "cell_type": "markdown",
   "metadata": {},
   "source": [
    "# 整合单个模型的数据（GMF,MLP)"
   ]
  },
  {
   "cell_type": "code",
   "execution_count": null,
   "metadata": {},
   "outputs": [],
   "source": [
    "import json\n",
    "result = []\n",
    "logfilePath = 'opt_random/'\n",
    "opt_dicts = {'Adagrad': [], 'Adam': [], 'SGD': []}\n",
    "for num in [1,2,3,4,7,8]:\n",
    "    with open(os.path.join(logfilePath, \"optinfo\" + str(num) + \".json\") ,'r', encoding='UTF-8') as infile:\n",
    "        try:\n",
    "            ldict = json.load(infile)\n",
    "            for k in opt_dicts:\n",
    "                opt_dicts[k] += ldict[k]\n",
    "            \n",
    "        except ValueError:\n",
    "            print(infile)\n",
    "info_json = json.dumps(opt_dicts,sort_keys=False, indent=4, separators=(',', ': '))\n",
    "f = open(os.path.join(logfilePath, \"opt_dicts_ml-100k.json\"), 'w')\n",
    "f.write(info_json)"
   ]
  },
  {
   "cell_type": "code",
   "execution_count": 27,
   "metadata": {},
   "outputs": [
    {
     "data": {
      "text/plain": [
       "6652"
      ]
     },
     "execution_count": 27,
     "metadata": {},
     "output_type": "execute_result"
    }
   ],
   "source": [
    "import json\n",
    "# opt ml-1m\n",
    "result = []\n",
    "logfilePath = 'opt_random/'\n",
    "opt_dicts = {'Adagrad': [], 'Adam': [], 'SGD': []}\n",
    "for num in [20,21,22,23,24,25,28,29,30,31,32,33,34,35,36,37,40]:\n",
    "    with open(os.path.join(logfilePath, \"optinfo\" + str(num) + \".json\") ,'r', encoding='UTF-8') as infile:\n",
    "        try:\n",
    "            ldict = json.load(infile)\n",
    "            for k in opt_dicts:\n",
    "                opt_dicts[k] += ldict[k]\n",
    "            result.append(ldict)\n",
    "        except ValueError:\n",
    "            print(infile)\n",
    "\n",
    "info_json = json.dumps(opt_dicts,sort_keys=False, indent=4, separators=(',', ': '))\n",
    "f = open(os.path.join(logfilePath, \"opt_dicts_ml-1m.json\"), 'w')\n",
    "f.write(info_json)\n",
    "\n"
   ]
  },
  {
   "cell_type": "code",
   "execution_count": 38,
   "metadata": {},
   "outputs": [
    {
     "data": {
      "text/plain": [
       "31318"
      ]
     },
     "execution_count": 38,
     "metadata": {},
     "output_type": "execute_result"
    }
   ],
   "source": [
    "import json\n",
    "# lr ml-100k\n",
    "# result = []\n",
    "lr_hp_list = ['1e-6','1e-5', '1e-4','1e-3', '1e-2', '1e-1', '1e0','1e1','1e2', '1e3', '1e4', '1e5']\n",
    "lr_hp_list = [str(float(lr)) for lr in lr_hp_list]\n",
    "lr_dicts = {}\n",
    "for lr in lr_hp_list:\n",
    "    lr_dicts[lr] = []\n",
    "logfilePath = 'lr_random/'\n",
    "# lr_dicts = {'0.001': [], '0.005':[], '0.01':[], '0.05':[], \\\n",
    "#                     '0.1':[], '0.5':[],'1.0':[],'1.5':[],'2.0':[] ,'10.0':[], \\\n",
    "#                         '20.0': [], '50.0': []}#, '100.0':[], '1000.0':[]}\n",
    "for num in [130,131,134,135,136,137,141,142,145,146,147,148]:\n",
    "    with open(os.path.join(logfilePath, \"lrinfo\" + str(num) + \".json\") ,'r', encoding='UTF-8') as infile:\n",
    "        try:\n",
    "            ldict = json.load(infile)\n",
    "            for k in lr_dicts:\n",
    "                lr_dicts[k] += ldict[k]\n",
    "            # result.append(ldict)\n",
    "        except ValueError:\n",
    "            print(infile)\n",
    "\n",
    "info_json = json.dumps(lr_dicts,sort_keys=False, indent=4, separators=(',', ': '))\n",
    "f = open(os.path.join(logfilePath, \"lr_dicts_ml-100k_7_MLP.json\"), 'w')\n",
    "f.write(info_json)"
   ]
  },
  {
   "cell_type": "code",
   "execution_count": 43,
   "metadata": {},
   "outputs": [
    {
     "data": {
      "text/plain": [
       "32405"
      ]
     },
     "execution_count": 43,
     "metadata": {},
     "output_type": "execute_result"
    }
   ],
   "source": [
    "import json\n",
    "import shutil\n",
    "\n",
    "# lr \n",
    "cur_dataset_str = 'ml-100k'\n",
    "# result = []\n",
    "lr_hp_list = ['1e-6','1e-5', '1e-4','1e-3', '1e-2', '1e-1', '1e0','1e1','1e2', '1e3', '1e4', '1e5']\n",
    "lr_hp_list = [str(float(lr)) for lr in lr_hp_list]\n",
    "lr_dicts = {}\n",
    "for lr in lr_hp_list:\n",
    "    lr_dicts[lr] = []\n",
    "logfilePath = 'lr_random/'\n",
    "nums = [200,201,203,204,209,216,217,218,220,221,222,223,228,233,234]\n",
    "files = [os.path.join(logfilePath, \"lrinfo\" + str(num) + \".json\") for num in nums]\n",
    "\n",
    "for f in files:\n",
    "    with open(f,'r', encoding='UTF-8') as infile:\n",
    "        try:\n",
    "            ldict = json.load(infile)\n",
    "            for k in lr_dicts:\n",
    "                lr_dicts[k] += ldict[k]\n",
    "            # result.append(ldict)\n",
    "            shutil.move(f, os.path.join(logfilePath, 'lr_info_dicts')) # 移动文件\n",
    "\n",
    "        except ValueError:\n",
    "            print(infile)\n",
    "\n",
    "info_json = json.dumps(lr_dicts,sort_keys=False, indent=4, separators=(',', ': '))\n",
    "f = open(os.path.join(logfilePath, \"lr_random_nas_dicts_\"+ cur_dataset_str +\"_1.json\"), 'w')\n",
    "f.write(info_json)"
   ]
  },
  {
   "cell_type": "code",
   "execution_count": 50,
   "metadata": {},
   "outputs": [
    {
     "data": {
      "text/plain": [
       "32405"
      ]
     },
     "execution_count": 50,
     "metadata": {},
     "output_type": "execute_result"
    }
   ],
   "source": [
    "import json\n",
    "import shutil\n",
    "\n",
    "# lr \n",
    "cur_dataset_str = 'ml-1m'\n",
    "# result = []\n",
    "embs_hp_list = ['1','2', '4','8','16','32','64']\n",
    "# embgroups = np.array([[] for item in embs_hp_list],dtype='int32')\n",
    "# load_dict_list = []\n",
    "embedding_dim_result_list_dict = {}\n",
    "\n",
    "for embsize in embs_hp_list:\n",
    "     embedding_dim_result_list_dict[embsize] = []\n",
    "logfilePath = 'emb_random/'\n",
    "nums = [12,15,17,18,19,20,21,22,23,30,31,32,33,34,35,36,37,38,39]\n",
    "files = [os.path.join(logfilePath, \"embinfo\" + str(num) + \".json\") for num in nums]\n",
    "f2 = os.path.join(logfilePath, 'emb_info_dicts')\n",
    "if not os.path.exists(f2):\n",
    "    os.makedirs(f2)\n",
    "for f in files:\n",
    "    with open(f,'r', encoding='UTF-8') as infile:\n",
    "        try:\n",
    "            ldict = json.load(infile)\n",
    "            for k in embedding_dim_result_list_dict:\n",
    "                embedding_dim_result_list_dict[k] += ldict[k]\n",
    "            # result.append(ldict)\n",
    "            shutil.move(f, f2) # 移动文件\n",
    "        except ValueError:\n",
    "            print(infile)\n",
    "\n",
    "info_json = json.dumps(lr_dicts,sort_keys=False, indent=4, separators=(',', ': '))\n",
    "f = open(os.path.join(logfilePath, \"embdim_dicts_\"+ cur_dataset_str +\"_1.json\"), 'w')\n",
    "f.write(info_json)"
   ]
  },
  {
   "cell_type": "code",
   "execution_count": 52,
   "metadata": {},
   "outputs": [
    {
     "data": {
      "text/plain": [
       "32405"
      ]
     },
     "execution_count": 52,
     "metadata": {},
     "output_type": "execute_result"
    }
   ],
   "source": [
    "import json\n",
    "import shutil\n",
    "\n",
    "# lr \n",
    "cur_dataset_str = 'ml-100k'\n",
    "# result = []\n",
    "wd_hp_list = ['1e-06','1e-05', '0.0001','0.001','0.01']\n",
    "weight_decay_result_list_dict = {}\n",
    "for embsize in wd_hp_list:\n",
    "     weight_decay_result_list_dict[embsize] = []\n",
    "\n",
    "logfilePath = 'weight_random/'\n",
    "nums = [1,2,3,5,6,7]\n",
    "files = [os.path.join(logfilePath, \"weighdeinfo\" + str(num) + \".json\") for num in nums]\n",
    "f2 = os.path.join(logfilePath, 'weight_decay_info_dicts')\n",
    "if not os.path.exists(f2):\n",
    "    os.makedirs(f2)\n",
    "for f in files:\n",
    "    with open(f,'r', encoding='UTF-8') as infile:\n",
    "        try:\n",
    "            ldict = json.load(infile)\n",
    "            for k in weight_decay_result_list_dict:\n",
    "                weight_decay_result_list_dict[k] += ldict[k]\n",
    "            # result.append(ldict)\n",
    "            shutil.move(f, f2) # 移动文件\n",
    "        except ValueError:\n",
    "            print(infile)\n",
    "\n",
    "info_json = json.dumps(lr_dicts,sort_keys=False, indent=4, separators=(',', ': '))\n",
    "f = open(os.path.join(logfilePath, \"weight_decay_dicts_\"+ cur_dataset_str +\"_1.json\"), 'w')\n",
    "f.write(info_json)"
   ]
  },
  {
   "cell_type": "markdown",
   "metadata": {},
   "source": []
  },
  {
   "cell_type": "code",
   "execution_count": null,
   "metadata": {},
   "outputs": [],
   "source": []
  },
  {
   "cell_type": "code",
   "execution_count": 3,
   "metadata": {},
   "outputs": [],
   "source": []
  },
  {
   "cell_type": "code",
   "execution_count": 4,
   "metadata": {},
   "outputs": [
    {
     "name": "stdout",
     "output_type": "stream",
     "text": [
      "03/09 02:45:01 PM gpu device = 0\n",
      "03/09 02:45:03 PM prepare data finish! [1.618201]\n"
     ]
    }
   ],
   "source": []
  },
  {
   "cell_type": "code",
   "execution_count": 11,
   "metadata": {},
   "outputs": [
    {
     "name": "stdout",
     "output_type": "stream",
     "text": [
      "train_queue_pair.len: 5, 50000\n",
      "valid_queue.len: 5, 25000\n",
      "test_queue.len: 5, 25000\n"
     ]
    }
   ],
   "source": []
  },
  {
   "cell_type": "code",
   "execution_count": 18,
   "metadata": {},
   "outputs": [
    {
     "name": "stdout",
     "output_type": "stream",
     "text": [
      "train_queue_pair[0].shape: torch.Size([50000])\n",
      "train_queue_pair[1].shape: torch.Size([50000])\n",
      "train_queue_pair[2].shape: torch.Size([50000])\n",
      "train_queue_pair[3].shape: torch.Size([943, 1682])\n",
      "train_queue_pair[4].shape: torch.Size([1682, 943])\n",
      "\n",
      "valid_queue[0].shape: torch.Size([25000])\n",
      "valid_queue[1].shape: torch.Size([25000])\n",
      "valid_queue[2].shape: torch.Size([25000])\n",
      "valid_queue[3].shape: torch.Size([943, 1682])\n",
      "valid_queue[4].shape: torch.Size([1682, 943])\n",
      "\n",
      "test_queue[0].shape: torch.Size([25000])\n",
      "test_queue[1].shape: torch.Size([25000])\n",
      "test_queue[2].shape: torch.Size([943, 1682])\n",
      "test_queue[3].shape: torch.Size([943, 1682])\n",
      "test_queue[4].shape: torch.Size([1682, 943])\n"
     ]
    }
   ],
   "source": []
  },
  {
   "cell_type": "code",
   "execution_count": 62,
   "metadata": {},
   "outputs": [
    {
     "name": "stdout",
     "output_type": "stream",
     "text": [
      "100000 [689, 832, 15, 444, 415]\n",
      "100000 [1041, 640, 947, 830, 125]\n",
      "100000 [4.0, 4.0, 3.0, 1.0, 5.0]\n",
      "num_train: 50000, num_valid: 25000\n",
      "num_users: 943, num_items: 1682\n",
      "torch.Size([943, 1682])\n",
      "torch.Size([1682, 943])\n"
     ]
    }
   ],
   "source": []
  },
  {
   "cell_type": "code",
   "execution_count": 66,
   "metadata": {},
   "outputs": [
    {
     "name": "stdout",
     "output_type": "stream",
     "text": [
      "negs_train: tensor([1541, 1065,  201,  ..., 1173, 1647,  259]), negs_train.shape: torch.Size([50000])\n",
      "items_train: [1041  640  947 ...   69  107 1102], items_train.shape: (50000,)\n"
     ]
    }
   ],
   "source": []
  },
  {
   "cell_type": "code",
   "execution_count": 63,
   "metadata": {},
   "outputs": [
    {
     "name": "stdout",
     "output_type": "stream",
     "text": [
      "torch.Size([943, 1682]) 25000\n"
     ]
    }
   ],
   "source": []
  },
  {
   "cell_type": "code",
   "execution_count": null,
   "metadata": {},
   "outputs": [],
   "source": []
  },
  {
   "cell_type": "markdown",
   "metadata": {},
   "source": []
  },
  {
   "cell_type": "code",
   "execution_count": 43,
   "metadata": {},
   "outputs": [],
   "source": []
  },
  {
   "cell_type": "code",
   "execution_count": 47,
   "metadata": {},
   "outputs": [],
   "source": []
  }
 ],
 "metadata": {
  "kernelspec": {
   "display_name": "Python 3.8.13 ('dlrs')",
   "language": "python",
   "name": "python3"
  },
  "language_info": {
   "codemirror_mode": {
    "name": "ipython",
    "version": 3
   },
   "file_extension": ".py",
   "mimetype": "text/x-python",
   "name": "python",
   "nbconvert_exporter": "python",
   "pygments_lexer": "ipython3",
   "version": "3.8.13"
  },
  "orig_nbformat": 4,
  "vscode": {
   "interpreter": {
    "hash": "07c3ee1cf017444eea205f4f170733704bc25c32c3d72c6dcf3487470a4a8cad"
   }
  }
 },
 "nbformat": 4,
 "nbformat_minor": 2
}
